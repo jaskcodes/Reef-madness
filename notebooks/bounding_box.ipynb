{
 "cells": [
  {
   "cell_type": "markdown",
   "metadata": {},
   "source": [
    "## Adding Bounding Box to the dataset\n",
    "The dataset is already annotated with the bounding boxes, but the bounding boxes are not in a format that is easy to use. "
   ]
  },
  {
   "cell_type": "code",
   "execution_count": 5,
   "metadata": {},
   "outputs": [],
   "source": [
    "import os\n",
    "import pandas as pd\n",
    "import json"
   ]
  },
  {
   "cell_type": "code",
   "execution_count": 8,
   "metadata": {},
   "outputs": [
    {
     "name": "stdout",
     "output_type": "stream",
     "text": [
      "   width  height                                 file_name  license  \\\n",
      "0   1920    1080  000c1820-ce3f-441a-ac8a-b3881958fd68.png        0   \n",
      "1   1920    1080  000c1820-ce3f-441a-ac8a-b3881958fd68.png        0   \n",
      "2   1920    1080  000c1820-ce3f-441a-ac8a-b3881958fd68.png        0   \n",
      "3   1920    1080  000c1820-ce3f-441a-ac8a-b3881958fd68.png        0   \n",
      "4   1920    1080  000c1820-ce3f-441a-ac8a-b3881958fd68.png        0   \n",
      "\n",
      "                                          flickr_url  \\\n",
      "0  https://fathomnet.org/static/m3/framegrabs/Doc...   \n",
      "1  https://fathomnet.org/static/m3/framegrabs/Doc...   \n",
      "2  https://fathomnet.org/static/m3/framegrabs/Doc...   \n",
      "3  https://fathomnet.org/static/m3/framegrabs/Doc...   \n",
      "4  https://fathomnet.org/static/m3/framegrabs/Doc...   \n",
      "\n",
      "                                            coco_url        date_captured  \\\n",
      "0  https://fathomnet.org/static/m3/framegrabs/Doc...  2014-06-08 00:44:05   \n",
      "1  https://fathomnet.org/static/m3/framegrabs/Doc...  2014-06-08 00:44:05   \n",
      "2  https://fathomnet.org/static/m3/framegrabs/Doc...  2014-06-08 00:44:05   \n",
      "3  https://fathomnet.org/static/m3/framegrabs/Doc...  2014-06-08 00:44:05   \n",
      "4  https://fathomnet.org/static/m3/framegrabs/Doc...  2014-06-08 00:44:05   \n",
      "\n",
      "    id  image_id  category_id segmentation     area  iscrowd  bbox_x  bbox_y  \\\n",
      "0  432       163            1           []  39400.0        0  1320.0   545.0   \n",
      "1  422       163            1           []  56153.0        0   613.0   837.0   \n",
      "2  423       163            1           []   9825.0        0  1415.0    58.0   \n",
      "3  424       163            1           []  25993.0        0  1482.0   761.0   \n",
      "4  425       163            1           []   8142.0        0  1346.0     1.0   \n",
      "\n",
      "   bbox_width  bbox_height            species  \n",
      "0       200.0        197.0  Heterochone calyx  \n",
      "1       241.0        233.0  Heterochone calyx  \n",
      "2       131.0         75.0  Heterochone calyx  \n",
      "3       187.0        139.0  Heterochone calyx  \n",
      "4       138.0         59.0  Heterochone calyx  \n"
     ]
    }
   ],
   "source": [
    "species_list = [\n",
    "    \"Heterochone calyx\",\n",
    "    \"Heteropolypus ritteri\",\n",
    "    \"Hexactinellida\",\n",
    "    \"Isididae\",\n",
    "    \"Paragorgia arborea\",\n",
    "    \"Pennatulacea\",\n",
    "    \"Porifera\"\n",
    "]\n",
    "\n",
    "# Function to normalize the image and annotation data into DataFrames\n",
    "def annotated_df(data):\n",
    "    images_df = pd.json_normalize(data['images'])\n",
    "    annotations_df = pd.json_normalize(data['annotations'])\n",
    "    combined_df = pd.merge(images_df, annotations_df, left_on='id', right_on='image_id')\n",
    "\n",
    "    # Create detailed columns for each bbox\n",
    "    combined_df['bbox_x'] = combined_df['bbox'].apply(lambda x: x[0])\n",
    "    combined_df['bbox_y'] = combined_df['bbox'].apply(lambda x: x[1])\n",
    "    combined_df['bbox_width'] = combined_df['bbox'].apply(lambda x: x[2])\n",
    "    combined_df['bbox_height'] = combined_df['bbox'].apply(lambda x: x[3])\n",
    "\n",
    "    # Drop the original bbox column and rename the id column\n",
    "    combined_df.drop(['bbox', 'id_x'], axis=1, inplace=True)\n",
    "    combined_df.rename(columns={'id_y': 'id'}, inplace=True)\n",
    "    combined_df = combined_df.sort_values(by='file_name')\n",
    "\n",
    "    return combined_df\n",
    "\n",
    "# Initialize an empty DataFrame to store all species annotations\n",
    "all_species_df = pd.DataFrame()\n",
    "\n",
    "# Iterate over each species\n",
    "for species in species_list:\n",
    "    # Construct the file path with underscores instead of spaces\n",
    "    species_name_formatted = species.replace(' ', '_')\n",
    "    file_path = f\"/Users/jaskiratkaur/Documents/ACV/Reef-madness/data/big_species/Annotations/{species_name_formatted}/dataset.json\"\n",
    "\n",
    "    try:\n",
    "        # Load the JSON file\n",
    "        with open(file_path, 'r') as file:\n",
    "            data = json.load(file)\n",
    "\n",
    "        # Process the data and append it to the DataFrame\n",
    "        species_df = annotated_df(data)\n",
    "        species_df['species'] = species\n",
    "        all_species_df = pd.concat([all_species_df, species_df], ignore_index=True)\n",
    "\n",
    "    except FileNotFoundError:\n",
    "        print(f\"File not found: {file_path}\")\n",
    "\n",
    "print(all_species_df.head())"
   ]
  }
 ],
 "metadata": {
  "kernelspec": {
   "display_name": ".venv",
   "language": "python",
   "name": "python3"
  },
  "language_info": {
   "codemirror_mode": {
    "name": "ipython",
    "version": 3
   },
   "file_extension": ".py",
   "mimetype": "text/x-python",
   "name": "python",
   "nbconvert_exporter": "python",
   "pygments_lexer": "ipython3",
   "version": "3.11.4"
  }
 },
 "nbformat": 4,
 "nbformat_minor": 2
}
